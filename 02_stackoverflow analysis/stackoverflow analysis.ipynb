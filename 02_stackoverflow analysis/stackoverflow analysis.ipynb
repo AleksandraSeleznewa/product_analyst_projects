{
 "cells": [
  {
   "cell_type": "markdown",
   "id": "8c291f61-bc4e-477b-8b59-9757b436c78e",
   "metadata": {},
   "source": [
    "<a id='start'></a>\n",
    "# Анализ сервиса вопросов и ответов по программированию"
   ]
  },
  {
   "cell_type": "markdown",
   "id": "c851cd47-0859-4951-88b1-6a5cc1888b79",
   "metadata": {},
   "source": [
    "Проект состоит из двух частей.\n",
    "\n",
    "В каждой части необходимо выполнить несколько задач в SQL-тренажёре и сформулировать вывод на основе выявленной информации."
   ]
  },
  {
   "cell_type": "markdown",
   "id": "678b7232-1e54-4260-8316-7017a2e10c78",
   "metadata": {},
   "source": [
    "## Содержание проекта\n",
    "\n",
    "1. [Описание данных](#part1)\n",
    "2. [Часть 1](#part2)\n",
    "3. [Часть 2](#part3)"
   ]
  },
  {
   "cell_type": "markdown",
   "id": "2ee1a193-bf5d-4311-a204-2851cafedc9c",
   "metadata": {},
   "source": [
    "<a id='part1'></a>\n",
    "## Описание данных"
   ]
  },
  {
   "cell_type": "markdown",
   "id": "7ce82b51-3a62-40d7-bc20-609cbc8db168",
   "metadata": {},
   "source": [
    "**Таблица `stackoverflow.badges`**\n",
    "\n",
    "Хранит информацию о значках, которые присуждаются за разные достижения. Например, пользователь, правильно ответивший на большое количество вопросов про PostgreSQL, может получить значок postgresql.\n",
    "\n",
    "|Поле|Описание|\n",
    "|----|--------|\n",
    "|id|Идентификатор значка, первичный ключ таблицы|\n",
    "|name|Название значка|\n",
    "|user_id|Идентификатор пользователя, которому присвоили значок, внешний ключ, отсылающий к таблице `users`|\n",
    "|creation_date|Дата присвоения значка|"
   ]
  },
  {
   "cell_type": "markdown",
   "id": "aab40199-bb5e-4d14-a1e9-8c662ab0decc",
   "metadata": {},
   "source": [
    "**Таблица `stackoverflow.post_types`**\n",
    "\n",
    "Содержит информацию о типе постов. Их может быть два:\n",
    "- `Question` — пост с вопросом;\n",
    "- `Answer` — пост с ответом.\n",
    "\n",
    "|Поле|Описание|\n",
    "|----|--------|\n",
    "|id|Идентификатор типа поста, первичный ключ таблицы|\n",
    "|type|Тип поста|"
   ]
  },
  {
   "cell_type": "markdown",
   "id": "3a93b3db-a80f-44f4-acdf-ed15010d724f",
   "metadata": {},
   "source": [
    "**Таблица `stackoverflow.posts`**\n",
    "\n",
    "Содержит информацию о постах.\n",
    "\n",
    "|Поле|Описание|\n",
    "|----|--------|\n",
    "|id|Идентификатор поста, первичный ключ таблицы|\n",
    "|title|Заголовок поста|\n",
    "|creation_date|Дата создания поста|\n",
    "|favorites_count|Число, которое показывает, сколько раз пост добавили в «Закладки»|\n",
    "|last_activity_date|Дата последнего действия в посте, например комментария|\n",
    "|last_edit_date|Дата последнего изменения поста|\n",
    "|user_id|Идентификатор пользователя, который создал пост, внешний ключ к таблице `users`|\n",
    "|parent_id|Если пост написали в ответ на другую публикацию, в это поле попадёт идентификатор поста с вопросом|\n",
    "|post_type_id|Идентификатор типа поста, внешний ключ к таблице `post_types`|\n",
    "|score|Количество очков, которое набрал пост|\n",
    "|views_count|Количество просмотров|"
   ]
  },
  {
   "cell_type": "markdown",
   "id": "fa22e4e3-ee7d-4db8-ad56-c25e7cf94064",
   "metadata": {},
   "source": [
    "**Таблица `stackoverflow.users`**\n",
    "\n",
    "Содержит информацию о пользователях.\n",
    "\n",
    "|Поле|Описание|\n",
    "|----|--------|\n",
    "|id|Идентификатор пользователя, первичный ключ таблицы|\n",
    "|creation_date|Дата регистрации пользователя|\n",
    "|display_name|Имя пользователя|\n",
    "|last_access_date|Дата последнего входа|\n",
    "|location|Местоположение|\n",
    "|reputation|Очки репутации, которые получают за хорошие вопросы и полезные ответы|\n",
    "|views|Число просмотров профиля пользователя|"
   ]
  },
  {
   "cell_type": "markdown",
   "id": "66d97031-9abc-4ae2-bbb4-8b91b146e50b",
   "metadata": {},
   "source": [
    "**Таблица `stackoverflow.vote_types`**\n",
    "\n",
    "Содержит информацию о типах голосов. Голос — это метка, которую пользователи ставят посту. Типов бывает несколько: \n",
    "- `UpMod` — такую отметку получают посты с вопросами или ответами, которые пользователи посчитали уместными и полезными.\n",
    "- `DownMod` — такую отметку получают посты, которые показались пользователям наименее полезными.\n",
    "- `Close` — такую метку ставят опытные пользователи сервиса, если заданный вопрос нужно доработать или он вообще не подходит для платформы.\n",
    "- `Offensive` — такую метку могут поставить, если пользователь ответил на вопрос в грубой и оскорбительной манере, например, указав на неопытность автора поста.\n",
    "- `Spam` — такую метку ставят в случае, если пост пользователя выглядит откровенной рекламой.\n",
    "\n",
    "|Поле|Описание|\n",
    "|----|--------|\n",
    "|id|Идентификатор типа голоса, первичный ключ|\n",
    "|name|Название метки|"
   ]
  },
  {
   "cell_type": "markdown",
   "id": "da5dae58-4dc2-472f-8637-90706f1a92c5",
   "metadata": {},
   "source": [
    "**Таблица `stackoverflow.votes`**\n",
    "\n",
    "Содержит информацию о голосах за посты.\n",
    "\n",
    "|Поле|Описание|\n",
    "|----|--------|\n",
    "|id|Идентификатор голоса, первичный ключ|\n",
    "|post_id|Идентификатор поста, внешний ключ к таблице `posts`|\n",
    "|user_id|Идентификатор пользователя, который поставил посту голос, внешний ключ к таблице `users`|\n",
    "|bounty_amount|Сумма вознаграждения, которое назначают, чтобы привлечь внимание к посту|\n",
    "|vote_type_id|Идентификатор типа голоса, внешний ключ к таблице `vote_types`|\n",
    "|creation_date|Дата назначения голоса|"
   ]
  },
  {
   "cell_type": "markdown",
   "id": "7cfd5222-d9ad-43df-a6f8-4edd6c13d4f4",
   "metadata": {},
   "source": [
    "<a id='part2'></a>\n",
    "## Часть 1"
   ]
  },
  {
   "cell_type": "markdown",
   "id": "f85e52bc-d893-4b2d-8d2f-d8acbc18e4f7",
   "metadata": {},
   "source": [
    "### Задание 1\n",
    "Найдите количество вопросов, которые набрали больше 300 очков или как минимум 100 раз были добавлены в «Закладки»."
   ]
  },
  {
   "cell_type": "markdown",
   "id": "e3b0f535-466a-4592-af84-5dad1f3326e7",
   "metadata": {},
   "source": [
    "Запрос:\n",
    "```sql\n",
    "    SELECT count(id)\n",
    "    FROM stackoverflow.posts\n",
    "    WHERE (score > 300 OR favorites_count >= 100) AND post_type_id = '1'\n",
    "```"
   ]
  },
  {
   "cell_type": "markdown",
   "id": "394f20e5-9295-4995-a0a2-63ca228f9aeb",
   "metadata": {},
   "source": [
    "### Задание 2\n",
    "Сколько в среднем в день задавали вопросов с 1 по 18 ноября 2008 включительно? Результат округлите до целого числа."
   ]
  },
  {
   "cell_type": "markdown",
   "id": "5e4d5268-ac4a-420e-a82a-d39ea330eedf",
   "metadata": {},
   "source": [
    "Запрос:\n",
    "```sql\n",
    "WITH day_posts_count AS (\n",
    "SELECT COUNT(id) AS posts_count\n",
    "FROM stackoverflow.posts\n",
    "WHERE post_type_id = 1 AND (creation_date::date BETWEEN '2008-11-01' AND '2008-11-18')\n",
    "GROUP BY creation_date::date\n",
    "    )\n",
    "\n",
    "SELECT ROUND(AVG(posts_count), 0)\n",
    "FROM day_posts_count\n",
    "```"
   ]
  },
  {
   "cell_type": "markdown",
   "id": "b531f614-a885-40fd-a43a-29ac6db7f65e",
   "metadata": {},
   "source": [
    "### Задание 3\n",
    "Сколько пользователей получили значки сразу в день регистрации? Выведите количество уникальных пользователей."
   ]
  },
  {
   "cell_type": "markdown",
   "id": "dbdfe71a-6e9b-4657-8980-3183c0ab7b2f",
   "metadata": {},
   "source": [
    "```sql\n",
    "WITH users AS (\n",
    "SELECT u.id AS user_ids\n",
    "FROM stackoverflow.users u\n",
    "JOIN stackoverflow.badges b ON u.id = b.user_id\n",
    "WHERE u.creation_date::date = b.creation_date::date)\n",
    "\n",
    "SELECT COUNT(DISTINCT user_ids)\n",
    "FROM users\n",
    "```"
   ]
  },
  {
   "cell_type": "markdown",
   "id": "06f27d4e-fcca-4892-8c0a-5a58da08563d",
   "metadata": {},
   "source": [
    "### Задание 4\n",
    "Сколько уникальных постов пользователя с именем Joel Coehoorn получили хотя бы один голос?"
   ]
  },
  {
   "cell_type": "markdown",
   "id": "42e2962b-5845-4ba8-8cff-f5bf87f507ec",
   "metadata": {},
   "source": [
    "```sql\n",
    "WITH user_posts\n",
    "AS (\n",
    "SELECT p.id AS post_ids\n",
    "FROM stackoverflow.users u\n",
    "JOIN stackoverflow.posts p ON p.user_id = u.id\n",
    "WHERE u.display_name = 'Joel Coehoorn')\n",
    "\n",
    "SELECT COUNT( DISTINCT post_ids)\n",
    "FROM user_posts\n",
    "JOIN stackoverflow.votes v ON v.post_id = user_posts.post_ids\n",
    "```"
   ]
  },
  {
   "cell_type": "markdown",
   "id": "b1e17dcf-3caf-4e15-b5bc-f028fd2b7b32",
   "metadata": {},
   "source": [
    "### Задание 5\n",
    "Выгрузите все поля таблицы vote_types. Добавьте к таблице поле rank, в которое войдут номера записей в обратном порядке. Таблица должна быть отсортирована по полю id."
   ]
  },
  {
   "cell_type": "markdown",
   "id": "f973aab6-c0cf-432a-a908-b7dc651d2401",
   "metadata": {},
   "source": [
    "```sql\n",
    "SELECT *,\n",
    "       ROW_NUMBER() OVER (ORDER BY id DESC)\n",
    "FROM stackoverflow.vote_types\n",
    "ORDER BY id\n",
    "```"
   ]
  },
  {
   "cell_type": "markdown",
   "id": "0b0b7379-4fdd-4e0b-8a4f-6ca4c313d4a0",
   "metadata": {},
   "source": [
    "### Задание 6\n",
    "Отберите 10 пользователей, которые поставили больше всего голосов типа Close. Отобразите таблицу из двух полей: идентификатором пользователя и количеством голосов. Отсортируйте данные сначала по убыванию количества голосов, потом по убыванию значения идентификатора пользователя."
   ]
  },
  {
   "cell_type": "markdown",
   "id": "cb02269d-3c9d-4229-b9f6-ed8588931a2a",
   "metadata": {},
   "source": [
    "```sql\n",
    "SELECT user_id, COUNT(id) AS count\n",
    "FROM stackoverflow.votes\n",
    "WHERE vote_type_id = 6\n",
    "GROUP BY user_id\n",
    "ORDER BY count DESC, user_id DESC\n",
    "LIMIT 10\n",
    "```"
   ]
  },
  {
   "cell_type": "markdown",
   "id": "c16dc4a5-7bb4-4da3-a30e-c11c9364b52a",
   "metadata": {},
   "source": [
    "### Задание 7\n",
    "Отберите 10 пользователей по количеству значков, полученных в период с 15 ноября по 15 декабря 2008 года включительно.\n",
    "Отобразите несколько полей:\n",
    "- идентификатор пользователя;\n",
    "- число значков;\n",
    "- место в рейтинге — чем больше значков, тем выше рейтинг.\n",
    "\n",
    "Пользователям, которые набрали одинаковое количество значков, присвойте одно и то же место в рейтинге.\n",
    "Отсортируйте записи по количеству значков по убыванию, а затем по возрастанию значения идентификатора пользователя."
   ]
  },
  {
   "cell_type": "markdown",
   "id": "1bc94ed4-a1c8-4e48-b3cf-73317ee77c7d",
   "metadata": {},
   "source": [
    "```sql\n",
    "WITH badges_count_table AS (\n",
    "SELECT DISTINCT user_id, COUNT(id) AS badges_count\n",
    "FROM stackoverflow.badges\n",
    "WHERE creation_date::date BETWEEN '2008-11-15' AND '2008-12-15'\n",
    "GROUP BY user_id\n",
    "ORDER BY badges_count DESC),\n",
    "\n",
    "ranking AS (\n",
    "SELECT *,\n",
    "       DENSE_RANK() OVER (ORDER BY badges_count DESC) AS rank\n",
    "FROM badges_count_table\n",
    "ORDER BY badges_count DESC, user_id)\n",
    "\n",
    "SELECT *\n",
    "FROM ranking\n",
    "ORDER BY badges_count DESC, user_id\n",
    "LIMIT 10\n",
    "```"
   ]
  },
  {
   "cell_type": "markdown",
   "id": "ed7ee81b-1cc3-4666-8d0a-8d4c27213be6",
   "metadata": {},
   "source": [
    "### Задание 8\n",
    "Сколько в среднем очков получает пост каждого пользователя?\n",
    "Сформируйте таблицу из следующих полей:\n",
    "- заголовок поста;\n",
    "- идентификатор пользователя;\n",
    "- число очков поста;\n",
    "- среднее число очков пользователя за пост, округлённое до целого числа.\n",
    "\n",
    "Не учитывайте посты без заголовка, а также те, что набрали ноль очков."
   ]
  },
  {
   "cell_type": "markdown",
   "id": "474c207d-c011-4475-9c18-dad930fad1b9",
   "metadata": {},
   "source": [
    "```sql\n",
    "SELECT title, user_id, score,\n",
    "       ROUND(AVG(score) OVER (PARTITION BY user_id), 0)\n",
    "FROM stackoverflow.posts\n",
    "WHERE title IS NOT NULL AND score != 0\n",
    "```"
   ]
  },
  {
   "cell_type": "markdown",
   "id": "b9582c28-bfb0-4881-b976-f60dde28560e",
   "metadata": {},
   "source": [
    "### Задание 9\n",
    "Отобразите заголовки постов, которые были написаны пользователями, получившими более 1000 значков. Посты без заголовков не должны попасть в список."
   ]
  },
  {
   "cell_type": "markdown",
   "id": "40cd750d-54b5-4cd6-946d-3415a6237ce4",
   "metadata": {},
   "source": [
    "```sql\n",
    "WITH over_1000 AS (\n",
    "SELECT user_id\n",
    "FROM stackoverflow.badges\n",
    "GROUP BY user_id\n",
    "HAVING COUNT(id) > 1000)\n",
    "\n",
    "SELECT title\n",
    "FROM stackoverflow.posts p\n",
    "JOIN over_1000 ON over_1000.user_id = p.user_id\n",
    "WHERE title IS NOT NULL\n",
    "```"
   ]
  },
  {
   "cell_type": "markdown",
   "id": "e1195972-5f21-4520-a874-5029b7696834",
   "metadata": {},
   "source": [
    "### Задание 10\n",
    "Напишите запрос, который выгрузит данные о пользователях из Канады (англ. Canada). Разделите пользователей на три группы в зависимости от количества просмотров их профилей:\n",
    "- пользователям с числом просмотров больше либо равным 350 присвойте группу 1;\n",
    "- пользователям с числом просмотров меньше 350, но больше либо равно 100 — группу 2;\n",
    "- пользователям с числом просмотров меньше 100 — группу 3.\n",
    "\n",
    "Отобразите в итоговой таблице идентификатор пользователя, количество просмотров профиля и группу. Пользователи с количеством просмотров меньше либо равным нулю не должны войти в итоговую таблицу."
   ]
  },
  {
   "cell_type": "markdown",
   "id": "1178f593-e9d9-4b99-a917-407b80545815",
   "metadata": {},
   "source": [
    "```sql\n",
    "SELECT id AS user_id, views,\n",
    "       CASE\n",
    "           WHEN views >= 350 THEN 1\n",
    "           WHEN views < 350 AND views >= 100 THEN 2\n",
    "           ELSE 3\n",
    "       END AS category\n",
    "FROM stackoverflow.users\n",
    "WHERE location LIKE '%Canada%' AND views > 0\n",
    "```"
   ]
  },
  {
   "cell_type": "markdown",
   "id": "e24da4ef-5de7-428d-bcef-b424b1e7ff9f",
   "metadata": {},
   "source": [
    "### Задание 11\n",
    "Дополните предыдущий запрос. Отобразите лидеров каждой группы — пользователей, которые набрали максимальное число просмотров в своей группе. Выведите поля с идентификатором пользователя, группой и количеством просмотров. Отсортируйте таблицу по убыванию просмотров, а затем по возрастанию значения идентификатора."
   ]
  },
  {
   "cell_type": "markdown",
   "id": "7b2e7f61-3b47-49e0-a6dd-ef05c6a4a140",
   "metadata": {},
   "source": [
    "```sql\n",
    "WITH categories AS\n",
    "(SELECT id AS user_id, views,\n",
    "       CASE\n",
    "           WHEN views >= 350 THEN 1\n",
    "           WHEN views < 350 AND views >= 100 THEN 2\n",
    "           ELSE 3\n",
    "       END AS category\n",
    "FROM stackoverflow.users\n",
    "WHERE location LIKE '%Canada%' AND views > 0),\n",
    "\n",
    "leaders AS (\n",
    "    SELECT *,\n",
    "       MAX(views) OVER (PARTITION BY category)\n",
    "    FROM categories)\n",
    "\n",
    "SELECT user_id, category, views\n",
    "FROM leaders\n",
    "WHERE views = max\n",
    "ORDER BY views DESC, user_id\n",
    "```"
   ]
  },
  {
   "cell_type": "markdown",
   "id": "e8e3bbc7-0d28-44f3-b0db-6c124159d9c7",
   "metadata": {},
   "source": [
    "### Задание 12\n",
    "Посчитайте ежедневный прирост новых пользователей в ноябре 2008 года. Сформируйте таблицу с полями:\n",
    "- номер дня;\n",
    "- число пользователей, зарегистрированных в этот день;\n",
    "- сумму пользователей с накоплением."
   ]
  },
  {
   "cell_type": "markdown",
   "id": "7b1d89e0-89b5-4fc7-8b49-68335ac00f37",
   "metadata": {},
   "source": [
    "```sql\n",
    "WITH user_count AS (\n",
    "SELECT EXTRACT(DAY FROM creation_date::date) AS day,\n",
    "       COUNT(id) AS user_count\n",
    "FROM stackoverflow.users\n",
    "WHERE EXTRACT(YEAR FROM creation_date::date) = 2008 AND\n",
    "      EXTRACT(MONTH FROM creation_date::date) = 11\n",
    "GROUP BY day)\n",
    "\n",
    "SELECT *,\n",
    "       SUM(user_count) OVER (ORDER BY day)\n",
    "FROM user_count\n",
    "```"
   ]
  },
  {
   "cell_type": "markdown",
   "id": "4bb13f2e-4e2a-49f9-8499-374a6bf3c145",
   "metadata": {},
   "source": [
    "### Задание 13\n",
    "Для каждого пользователя, который написал хотя бы один пост, найдите интервал между регистрацией и временем создания первого поста. Отобразите:\n",
    "- идентификатор пользователя;\n",
    "- разницу во времени между регистрацией и первым постом."
   ]
  },
  {
   "cell_type": "markdown",
   "id": "fb97db35-ad15-4055-980c-fe61a2cdccb9",
   "metadata": {},
   "source": [
    "```sql\n",
    "WITH user_posts AS (\n",
    "SELECT DISTINCT user_id, creation_date AS first_post,\n",
    "       ROW_NUMBER() OVER (PARTITION BY user_id ORDER BY creation_date) AS rank\n",
    "FROM stackoverflow.posts\n",
    "ORDER BY user_id)\n",
    "\n",
    "SELECT user_id, first_post - u.creation_date\n",
    "FROM user_posts\n",
    "JOIN stackoverflow.users u ON u.id = user_posts.user_id\n",
    "WHERE rank = 1\n",
    "```"
   ]
  },
  {
   "cell_type": "markdown",
   "id": "38f65a05-95b4-4a06-a011-d7390bfc633d",
   "metadata": {},
   "source": [
    "<a id='part3'></a>\n",
    "## Часть 2"
   ]
  },
  {
   "cell_type": "markdown",
   "id": "09aed80b-4e08-4b2f-ac87-693918f5ac04",
   "metadata": {},
   "source": [
    "### Задание 1\n",
    "Выведите общую сумму просмотров у постов, опубликованных в каждый месяц 2008 года. Если данных за какой-либо месяц в базе нет, такой месяц можно пропустить. Результат отсортируйте по убыванию общего количества просмотров."
   ]
  },
  {
   "cell_type": "markdown",
   "id": "dbf0e20a-4000-42b9-8955-01160e4815ad",
   "metadata": {},
   "source": [
    "```sql\n",
    "SELECT DISTINCT DATE_TRUNC('month', creation_date)::date AS month,\n",
    "       SUM(views_count) OVER (PARTITION BY DATE_TRUNC('month', creation_date)::date) AS sum_views\n",
    "FROM stackoverflow.posts\n",
    "WHERE EXTRACT(YEAR FROM creation_date::date) = 2008\n",
    "ORDER BY sum_views DESC\n",
    "```"
   ]
  },
  {
   "cell_type": "markdown",
   "id": "015b0843-7ab4-4fb2-9bd9-6b9fec8780f8",
   "metadata": {},
   "source": [
    "### Задание 2\n",
    "Выведите имена самых активных пользователей, которые в первый месяц после регистрации (включая день регистрации) дали больше 100 ответов. Вопросы, которые задавали пользователи, не учитывайте. Для каждого имени пользователя выведите количество уникальных значений user_id. Отсортируйте результат по полю с именами в лексикографическом порядке."
   ]
  },
  {
   "cell_type": "markdown",
   "id": "968144ff-8667-4dbc-a86b-969edac6f243",
   "metadata": {},
   "source": [
    "```sql\n",
    "SELECT u.display_name,\n",
    "       COUNT(DISTINCT p.user_id)\n",
    "FROM stackoverflow.users AS u\n",
    "JOIN stackoverflow.posts AS p ON u.id = p.user_id\n",
    "JOIN stackoverflow.post_types AS p_t ON p.post_type_id = p_t.id\n",
    "WHERE p_t.id = 2 AND (DATE_TRUNC('day', p.creation_date)::date <= DATE_TRUNC('day', u.creation_date)::date + INTERVAL '1 months')\n",
    "GROUP BY u.display_name\n",
    "HAVING COUNT(DISTINCT p.id) > 100\n",
    "ORDER BY u.display_name\n",
    "```"
   ]
  },
  {
   "cell_type": "markdown",
   "id": "910b5e50-567d-443e-bd2e-c05bd1a8d172",
   "metadata": {},
   "source": [
    "### Задание 3\n",
    "Выведите количество постов за 2008 год по месяцам. Отберите посты от пользователей, которые зарегистрировались в сентябре 2008 года и сделали хотя бы один пост в декабре того же года. Отсортируйте таблицу по значению месяца по убыванию."
   ]
  },
  {
   "cell_type": "markdown",
   "id": "70b563cc-4e8e-4cf1-8d6c-e41e24a47d99",
   "metadata": {},
   "source": [
    "```sql\n",
    "WITH users_09_2008 AS (\n",
    "SELECT u.id AS user_id, p.id AS post_id, p.creation_date AS post_dt\n",
    "FROM stackoverflow.users u\n",
    "    JOIN stackoverflow.posts p ON p.user_id = u.id\n",
    "WHERE EXTRACT(YEAR FROM u.creation_date) = 2008 AND\n",
    "      EXTRACT(MONTH FROM u.creation_date) = 9),\n",
    "      \n",
    "posts_12_2008 AS (\n",
    "SELECT user_id\n",
    "FROM users_09_2008\n",
    "WHERE EXTRACT(MONTH FROM post_dt) = 12)\n",
    "\n",
    "SELECT DATE_TRUNC('month', post_dt)::date AS month, COUNT(DISTINCT post_id)\n",
    "FROM users_09_2008\n",
    "JOIN posts_12_2008 ON users_09_2008.user_id = posts_12_2008.user_id\n",
    "GROUP BY month\n",
    "ORDER BY month DESC\n",
    "```"
   ]
  },
  {
   "cell_type": "markdown",
   "id": "76a76ac2-c705-4613-b6a8-ddf88b921005",
   "metadata": {},
   "source": [
    "### Задание 4\n",
    "Используя данные о постах, выведите несколько полей:\n",
    "- идентификатор пользователя, который написал пост;\n",
    "- дата создания поста;\n",
    "- количество просмотров у текущего поста;\n",
    "- сумма просмотров постов автора с накоплением.\n",
    "\n",
    "Данные в таблице должны быть отсортированы по возрастанию идентификаторов пользователей, а данные об одном и том же пользователе — по возрастанию даты создания поста."
   ]
  },
  {
   "cell_type": "markdown",
   "id": "73ddc8af-5030-4044-9b9b-7b55786d0a9a",
   "metadata": {},
   "source": [
    "```sql\n",
    "SELECT user_id, creation_date, views_count,\n",
    "       SUM(views_count) OVER (PARTITION BY user_id ORDER BY creation_date)\n",
    "FROM stackoverflow.posts\n",
    "ORDER BY user_id, creation_date\n",
    "```"
   ]
  },
  {
   "cell_type": "markdown",
   "id": "5fbca725-a1e1-4033-9f00-f3ef6f318c9c",
   "metadata": {},
   "source": [
    "### Задание 5\n",
    "Сколько в среднем дней в период с 1 по 7 декабря 2008 года включительно пользователи взаимодействовали с платформой? Для каждого пользователя отберите дни, в которые он или она опубликовали хотя бы один пост. Нужно получить одно целое число — не забудьте округлить результат."
   ]
  },
  {
   "cell_type": "markdown",
   "id": "610fccf3-94a9-4cf6-9d29-0d477b0aa8e8",
   "metadata": {},
   "source": [
    "```sql\n",
    "WITH table_1 AS (\n",
    "SELECT id, user_id, creation_date::date\n",
    "FROM stackoverflow.posts\n",
    "WHERE creation_date::date BETWEEN '2008-12-01' AND '2008-12-07'),\n",
    "\n",
    "table_2 AS (\n",
    "SELECT user_id, COUNT(DISTINCT creation_date) AS days_count\n",
    "FROM table_1\n",
    "GROUP BY user_id)\n",
    "\n",
    "SELECT ROUND(AVG(days_count), 0)\n",
    "FROM table_2\n",
    "```"
   ]
  },
  {
   "cell_type": "markdown",
   "id": "f6cce064-73a8-4fca-8446-9368d09ed9bf",
   "metadata": {},
   "source": [
    "### Задание 6\n",
    "На сколько процентов менялось количество постов ежемесячно с 1 сентября по 31 декабря 2008 года? Отобразите таблицу со следующими полями:\n",
    "- Номер месяца.\n",
    "- Количество постов за месяц.\n",
    "- Процент, который показывает, насколько изменилось количество постов в текущем месяце по сравнению с предыдущим.\n",
    "\n",
    "Если постов стало меньше, значение процента должно быть отрицательным, если больше — положительным. Округлите значение процента до двух знаков после запятой.\n",
    "\n",
    "Напомним, что при делении одного целого числа на другое в PostgreSQL в результате получится целое число, округлённое до ближайшего целого вниз. Чтобы этого избежать, переведите делимое в тип numeric."
   ]
  },
  {
   "cell_type": "markdown",
   "id": "9322ac84-8f0b-4d9f-a094-05d3d709494c",
   "metadata": {},
   "source": [
    "```sql\n",
    "WITH table_1 AS (\n",
    "SELECT EXTRACT(MONTH FROM creation_date) AS month,\n",
    "       COUNT(DISTINCT id) AS post_count\n",
    "FROM stackoverflow.posts\n",
    "WHERE creation_date BETWEEN '2008-09-01' AND '2008-12-31'\n",
    "GROUP BY month)\n",
    "\n",
    "SELECT *,\n",
    "       ROUND((((post_count - LAG(post_count) OVER (ORDER BY month)))/LAG(post_count) OVER (ORDER BY month)::numeric)*100, 2) AS diff\n",
    "FROM table_1\n",
    "ORDER BY month\n",
    "```"
   ]
  },
  {
   "cell_type": "markdown",
   "id": "6b6fa33f-6667-4430-9824-4858592d06cb",
   "metadata": {},
   "source": [
    "### Задание 7\n",
    "Найдите пользователя, который опубликовал больше всего постов за всё время с момента регистрации. Выведите данные его активности за октябрь 2008 года в таком виде:\n",
    "- номер недели;\n",
    "- дата и время последнего поста, опубликованного на этой неделе."
   ]
  },
  {
   "cell_type": "markdown",
   "id": "70a3592a-f3ca-4bb6-bf3c-82bead3d65f6",
   "metadata": {},
   "source": [
    "```sql\n",
    "WITH most_active_user AS (\n",
    "SELECT user_id, COUNT(DISTINCT id)\n",
    "FROM stackoverflow.posts\n",
    "GROUP BY user_id\n",
    "ORDER BY count DESC\n",
    "LIMIT 1),\n",
    "\n",
    "table_2 AS (\n",
    "SELECT EXTRACT(WEEK FROM creation_date) AS week, creation_date AS post_dt,\n",
    "       ROW_NUMBER() OVER (PARTITION BY EXTRACT(WEEK FROM creation_date) ORDER BY creation_date)\n",
    "FROM stackoverflow.posts p\n",
    "JOIN most_active_user ON p.user_id = most_active_user.user_id\n",
    "WHERE creation_date::date BETWEEN '2008-10-01' AND '2008-10-31'),\n",
    "\n",
    "table_3 AS (\n",
    "SELECT *,\n",
    "       MAX(row_number) OVER (PARTITION BY week) AS last_post\n",
    "FROM table_2)\n",
    "\n",
    "SELECT week, post_dt\n",
    "FROM table_3\n",
    "WHERE row_number = last_post\n",
    "```"
   ]
  },
  {
   "cell_type": "markdown",
   "id": "a001827c-b884-4a3c-b051-14c8e543023b",
   "metadata": {},
   "source": [
    "**[В начало](#start)**"
   ]
  }
 ],
 "metadata": {
  "kernelspec": {
   "display_name": "Python 3 (ipykernel)",
   "language": "python",
   "name": "python3"
  },
  "language_info": {
   "codemirror_mode": {
    "name": "ipython",
    "version": 3
   },
   "file_extension": ".py",
   "mimetype": "text/x-python",
   "name": "python",
   "nbconvert_exporter": "python",
   "pygments_lexer": "ipython3",
   "version": "3.9.5"
  }
 },
 "nbformat": 4,
 "nbformat_minor": 5
}
